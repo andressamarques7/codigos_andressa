{
 "cells": [
  {
   "cell_type": "markdown",
   "id": "790cdba8",
   "metadata": {},
   "source": [
    "### Aula de Python para Iniciantes - Mão na Massa 🐍\n",
    "\"Primeiros Passos em Python - Do Zero ao Primeiro Programa\""
   ]
  },
  {
   "cell_type": "markdown",
   "id": "30dc5e40",
   "metadata": {},
   "source": [
    "**O que é Python?**\n",
    "\n",
    "Linguagem de programação poderosa e fácil de aprender\n",
    "\n",
    "**Usada no YouTube, Instagram, NASA, Netflix**\n",
    "\n",
    "**Ótima para iniciantes*\n"
   ]
  },
  {
   "cell_type": "markdown",
   "id": "dbfc8226",
   "metadata": {},
   "source": [
    "Primeiro Contato:"
   ]
  },
  {
   "cell_type": "code",
   "execution_count": 1,
   "id": "fdfdbe54",
   "metadata": {},
   "outputs": [
    {
     "name": "stdout",
     "output_type": "stream",
     "text": [
      "Hello World!\n",
      "Sejam bem-vindos ao mundo do Python! 🎉\n"
     ]
    }
   ],
   "source": [
    "print(\"Hello World!\")\n",
    "print(\"Sejam bem-vindos ao mundo do Python! 🎉\")"
   ]
  },
  {
   "cell_type": "markdown",
   "id": "21988e6d",
   "metadata": {},
   "source": [
    "### 🖥️ Parte 2: Primeiros Comandos \n",
    "\n",
    "2.1 O Poder do print()"
   ]
  },
  {
   "cell_type": "code",
   "execution_count": 4,
   "id": "b6b868cf",
   "metadata": {},
   "outputs": [
    {
     "name": "stdout",
     "output_type": "stream",
     "text": [
      "Oi, eu sou o Python!\n",
      "Estou aprendendo a programar.\n",
      "Isso é muito legal!\n",
      "Andressa\n",
      "16 anos\n",
      "Meu nome é João e tenho 17 anos\n"
     ]
    }
   ],
   "source": [
    "# Exemplo 1\n",
    "print(\"Oi, eu sou o Python!\")\n",
    "print(\"Estou aprendendo a programar.\")\n",
    "print(\"Isso é muito legal!\")\n",
    "\n",
    "# Exercício 1: Crie um print que mostre seu nome e idade\n",
    "print(\"Andressa\")\n",
    "print(\"16 anos\")\n",
    "\n",
    "# (Exemplo de solução)\n",
    "print(\"Meu nome é João e tenho 17 anos\")"
   ]
  },
  {
   "cell_type": "markdown",
   "id": "af22de51",
   "metadata": {},
   "source": [
    "2.2 Variáveis Simples"
   ]
  },
  {
   "cell_type": "code",
   "execution_count": 8,
   "id": "28d3d22b",
   "metadata": {},
   "outputs": [
    {
     "name": "stdout",
     "output_type": "stream",
     "text": [
      "Maria\n",
      "17\n",
      "pantera negra\n",
      "2009\n"
     ]
    }
   ],
   "source": [
    "# Exemplo 2\n",
    "nome = \"Maria\"\n",
    "idade = 17\n",
    "print(nome)\n",
    "print(idade)\n",
    "\n",
    "# Exercício 2: Crie variáveis para:\n",
    "\n",
    "# - Seu animal favorito\n",
    "animal_favorito = \"pantera negra\"\n",
    "# - Seu ano de nascimento\n",
    "ano_nascimento = 2009\n",
    "# E mostre elas com print\n",
    "print(animal_favorito)\n",
    "print(ano_nascimento)"
   ]
  },
  {
   "cell_type": "markdown",
   "id": "3657d1d7",
   "metadata": {},
   "source": [
    "2.3 Inputs - Conversando com o Usuário\n"
   ]
  },
  {
   "cell_type": "code",
   "execution_count": null,
   "id": "4f7dd464",
   "metadata": {},
   "outputs": [
    {
     "name": "stdout",
     "output_type": "stream",
     "text": [
      "Olá, Andressa ! Bem-vindo ao Python!\n",
      "Olá Andressa, seu jogo favorito é Minecraft e você joga 2 por semana \n"
     ]
    }
   ],
   "source": [
    "# Exemplo 3\n",
    "nome = input(\"Qual é o seu nome? \")\n",
    "print(\"Olá,\", nome, \"! Bem-vindo ao Python!\")\n",
    "\n",
    "# Exercício 3: Faça um programa que pergunte:\n",
    "\n",
    "# - Qual seu jogo favorito\n",
    "jogo = input(\"Qual é o seu jogo favorito?\")\n",
    "# - Quantas horas você joga por semana\n",
    "horas = input(\"Quantas horas você joga por semana?\")\n",
    "# E depois mostre essas informações\n",
    "print(f\"Olá {nome}, seu jogo favorito é {jogo} e você joga {horas} horas por semana \")"
   ]
  },
  {
   "cell_type": "markdown",
   "id": "1f68646d",
   "metadata": {},
   "source": [
    "### 🎮 Parte 3: Mini-Projetos"
   ]
  },
  {
   "cell_type": "markdown",
   "id": "acfc8f35",
   "metadata": {},
   "source": [
    "Projeto 1: Gerador de Apelidos"
   ]
  },
  {
   "cell_type": "code",
   "execution_count": 9,
   "id": "8447908d",
   "metadata": {},
   "outputs": [
    {
     "name": "stdout",
     "output_type": "stream",
     "text": [
      "--- Gerador de Apelidos Engraçados ---\n",
      "Seu apelido poderia ser: Super frango pantera negra!\n"
     ]
    }
   ],
   "source": [
    "print(\"--- Gerador de Apelidos Engraçados ---\")\n",
    "comida = input(\"Qual sua comida favorita? \")\n",
    "animal = input(\"Qual seu animal preferido? \")\n",
    "print(\"Seu apelido poderia ser:\", \"Super \" + comida + \" \" + animal + \"!\")"
   ]
  },
  {
   "cell_type": "markdown",
   "id": "190b0e98",
   "metadata": {},
   "source": [
    "Projeto 2: Calculadora de Idade"
   ]
  },
  {
   "cell_type": "code",
   "execution_count": 20,
   "id": "9b15af62",
   "metadata": {},
   "outputs": [
    {
     "name": "stdout",
     "output_type": "stream",
     "text": [
      "16\n",
      "Sua idade é 16\n"
     ]
    }
   ],
   "source": [
    "ano_atual = int(input(\"Qual é o ano atual?\"))\n",
    "ano_nascimento = int(input(\"Qual é o ano de seu nascimento?\"))\n",
    "idade = ano_atual - ano_nascimento\n",
    "print(idade)\n",
    "print(f\"Sua idade é {idade}\")"
   ]
  },
  {
   "cell_type": "markdown",
   "id": "27b23eb0",
   "metadata": {},
   "source": [
    "Projeto 3: Quiz Simples"
   ]
  },
  {
   "cell_type": "code",
   "execution_count": 4,
   "id": "86da1065",
   "metadata": {},
   "outputs": [
    {
     "name": "stdout",
     "output_type": "stream",
     "text": [
      "--- Quiz de Programação ---\n",
      "Ops, na verdade é sim! 😊\n"
     ]
    }
   ],
   "source": [
    "print(\"--- Quiz de Programação ---\")\n",
    "resposta = input(\"Python é uma linguagem de programação? (sim/não) \")\n",
    "if resposta == \"sim\":\n",
    "    print(\"Correto! 🎉\")\n",
    "else:\n",
    "    print(\"Ops, na verdade é sim! 😊\")"
   ]
  },
  {
   "cell_type": "markdown",
   "id": "703efc09",
   "metadata": {},
   "source": [
    "### 💡 Parte 4: Desafios "
   ]
  },
  {
   "cell_type": "markdown",
   "id": "8ee84d28",
   "metadata": {},
   "source": [
    "**Desafio 1: Crie um programa que pergunta:**\n",
    "\n",
    "**Dois números favoritos**\n",
    "\n",
    "**Seu signo**\n",
    "\n",
    "\n",
    "**E depois mostra: \"Seu código secreto é: num1 + signo + num2**"
   ]
  },
  {
   "cell_type": "code",
   "execution_count": 25,
   "id": "9949b081",
   "metadata": {},
   "outputs": [
    {
     "name": "stdout",
     "output_type": "stream",
     "text": [
      "Olá usuário, este é um jogo sobre códigos secretos \n",
      "Parabéns! Seu código secreto é 7aquario5\n"
     ]
    }
   ],
   "source": [
    "print(\"Olá usuário, este é um jogo sobre códigos secretos \")\n",
    "numero_favorito_1 = (input(\"Escolha em número (7 ou 4)\"))\n",
    "numero_favorito_2 = (input(\"Escolha outro número agora (8 ou 5)\"))\n",
    "signo = input(\"Agora diga seu signo\")\n",
    "codigo = numero_favorito_1 + signo + numero_favorito_2\n",
    "print(f\"Parabéns! Seu código secreto é {codigo}\")"
   ]
  },
  {
   "cell_type": "markdown",
   "id": "b30a44d2",
   "metadata": {},
   "source": [
    "**Desafio 2: Crie uma história maluca que combina 3 inputs do usuário (ex: nome, objeto e lugar)**"
   ]
  },
  {
   "cell_type": "code",
   "execution_count": null,
   "id": "8f8587bb",
   "metadata": {},
   "outputs": [
    {
     "name": "stdout",
     "output_type": "stream",
     "text": [
      "Olá usuário! Este programa será a criação de uma história maluca, siga as instruções e diverta-se!\n",
      "Certo dia Yasmin passeava por Floresta junto de suas amigos, até que certo momento, sua amiga Adelaide encontra Faca sobre uma almofada laranja cheia de pintinhas. Você fica assustado(a) ao se deparar com essa cena, mas se aproxima de Faca depois de muita insistencia de seus amigos e observa por uns 30segundos e decide pegar. De repente ao segurar, Faca explode em sua cara ao som de Ragatanga, você começa a chorar de tanta felicidade e seus amigos começam a voar, poius ficaram irritados\n"
     ]
    }
   ],
   "source": [
    "print(\"Olá usuário! Este programa será a criação de uma história maluca, siga as instruções e diverta-se!\")\n",
    "nome = input(\"Informe o seu nome\")\n",
    "objeto = input(\"Diga-me um objeto\")\n",
    "lugar = input(\"E por fim diga-me um lugar\")\n",
    "print(f\"Certo dia {nome} passeava por {lugar} junto de suas amigos, até que certo momento, sua amiga Adelaide encontra {objeto} sobre uma almofada laranja cheia de pintinhas. Você fica assustado(a) ao se deparar com essa cena, mas se aproxima de {objeto} depois de muita insistencia de seus amigos e observa por uns 30segundos e decide pegar. De repente ao segurar, {objeto} explode em sua cara ao som de Ragatanga, você começa a chorar de tanta felicidade e seus amigos começam a voar, pois ficaram irritados.\")"
   ]
  },
  {
   "cell_type": "markdown",
   "id": "dbd8c544",
   "metadata": {},
   "source": [
    "### 🌟 Encerramento:\n",
    "\n",
    "Revisão rápida do que aprenderam:\n",
    "\n",
    "**print() para mostrar informações**\n",
    "\n",
    "**input() para receber dados**\n",
    "\n",
    "**Variáveis para guardar valores**\n",
    "\n",
    "**Operações simples**"
   ]
  },
  {
   "cell_type": "code",
   "execution_count": 37,
   "id": "4c6892b7",
   "metadata": {},
   "outputs": [
    {
     "name": "stdout",
     "output_type": "stream",
     "text": [
      "Meu nome é Andressa\n",
      "Andressa a mais maisAndressa a mais maisAndressa a mais maisAndressa a mais maisAndressa a mais maisAndressa a mais maisAndressa a mais maisAndressa a mais maisAndressa a mais maisAndressa a mais maisAndressa a mais maisAndressa a mais maisAndressa a mais maisAndressa a mais maisAndressa a mais maisAndressa a mais maisAndressa a mais maisAndressa a mais maisAndressa a mais maisAndressa a mais maisAndressa a mais maisAndressa a mais maisAndressa a mais maisAndressa a mais maisAndressa a mais maisAndressa a mais maisAndressa a mais maisAndressa a mais maisAndressa a mais maisAndressa a mais maisAndressa a mais maisAndressa a mais maisAndressa a mais maisAndressa a mais maisAndressa a mais maisAndressa a mais maisAndressa a mais maisAndressa a mais maisAndressa a mais maisAndressa a mais maisAndressa a mais maisAndressa a mais maisAndressa a mais maisAndressa a mais maisAndressa a mais maisAndressa a mais maisAndressa a mais maisAndressa a mais maisAndressa a mais maisAndressa a mais maisAndressa a mais maisAndressa a mais maisAndressa a mais maisAndressa a mais maisAndressa a mais maisAndressa a mais maisAndressa a mais maisAndressa a mais maisAndressa a mais maisAndressa a mais maisAndressa a mais maisAndressa a mais maisAndressa a mais maisAndressa a mais maisAndressa a mais maisAndressa a mais maisAndressa a mais maisAndressa a mais maisAndressa a mais maisAndressa a mais maisAndressa a mais maisAndressa a mais maisAndressa a mais maisAndressa a mais maisAndressa a mais maisAndressa a mais maisAndressa a mais maisAndressa a mais maisAndressa a mais maisAndressa a mais maisAndressa a mais maisAndressa a mais maisAndressa a mais maisAndressa a mais maisAndressa a mais maisAndressa a mais maisAndressa a mais maisAndressa a mais maisAndressa a mais maisAndressa a mais maisAndressa a mais maisAndressa a mais maisAndressa a mais maisAndressa a mais maisAndressa a mais maisAndressa a mais maisAndressa a mais maisAndressa a mais maisAndressa a mais maisAndressa a mais maisAndressa a mais maisAndressa a mais maisAndressa a mais maisAndressa a mais maisAndressa a mais maisAndressa a mais maisAndressa a mais maisAndressa a mais maisAndressa a mais maisAndressa a mais maisAndressa a mais maisAndressa a mais maisAndressa a mais maisAndressa a mais maisAndressa a mais maisAndressa a mais maisAndressa a mais maisAndressa a mais maisAndressa a mais maisAndressa a mais maisAndressa a mais maisAndressa a mais maisAndressa a mais maisAndressa a mais maisAndressa a mais maisAndressa a mais maisAndressa a mais maisAndressa a mais maisAndressa a mais maisAndressa a mais maisAndressa a mais maisAndressa a mais maisAndressa a mais maisAndressa a mais maisAndressa a mais maisAndressa a mais maisAndressa a mais maisAndressa a mais maisAndressa a mais maisAndressa a mais maisAndressa a mais maisAndressa a mais maisAndressa a mais maisAndressa a mais maisAndressa a mais maisAndressa a mais maisAndressa a mais maisAndressa a mais maisAndressa a mais maisAndressa a mais maisAndressa a mais maisAndressa a mais maisAndressa a mais maisAndressa a mais maisAndressa a mais maisAndressa a mais maisAndressa a mais maisAndressa a mais maisAndressa a mais maisAndressa a mais maisAndressa a mais maisAndressa a mais maisAndressa a mais maisAndressa a mais maisAndressa a mais maisAndressa a mais maisAndressa a mais maisAndressa a mais maisAndressa a mais maisAndressa a mais maisAndressa a mais maisAndressa a mais maisAndressa a mais maisAndressa a mais maisAndressa a mais maisAndressa a mais maisAndressa a mais maisAndressa a mais maisAndressa a mais maisAndressa a mais maisAndressa a mais maisAndressa a mais maisAndressa a mais maisAndressa a mais maisAndressa a mais maisAndressa a mais maisAndressa a mais maisAndressa a mais maisAndressa a mais maisAndressa a mais maisAndressa a mais maisAndressa a mais maisAndressa a mais maisAndressa a mais maisAndressa a mais maisAndressa a mais maisAndressa a mais maisAndressa a mais maisAndressa a mais maisAndressa a mais maisAndressa a mais maisAndressa a mais maisAndressa a mais maisAndressa a mais maisAndressa a mais maisAndressa a mais maisAndressa a mais maisAndressa a mais maisAndressa a mais maisAndressa a mais maisAndressa a mais maisAndressa a mais maisAndressa a mais maisAndressa a mais maisAndressa a mais maisAndressa a mais maisAndressa a mais maisAndressa a mais maisAndressa a mais maisAndressa a mais maisAndressa a mais maisAndressa a mais maisAndressa a mais maisAndressa a mais maisAndressa a mais maisAndressa a mais maisAndressa a mais maisAndressa a mais maisAndressa a mais maisAndressa a mais maisAndressa a mais maisAndressa a mais maisAndressa a mais maisAndressa a mais maisAndressa a mais maisAndressa a mais maisAndressa a mais maisAndressa a mais maisAndressa a mais maisAndressa a mais maisAndressa a mais maisAndressa a mais maisAndressa a mais maisAndressa a mais maisAndressa a mais maisAndressa a mais maisAndressa a mais maisAndressa a mais maisAndressa a mais maisAndressa a mais maisAndressa a mais maisAndressa a mais maisAndressa a mais maisAndressa a mais maisAndressa a mais maisAndressa a mais maisAndressa a mais maisAndressa a mais maisAndressa a mais maisAndressa a mais maisAndressa a mais maisAndressa a mais maisAndressa a mais maisAndressa a mais maisAndressa a mais maisAndressa a mais maisAndressa a mais maisAndressa a mais maisAndressa a mais maisAndressa a mais maisAndressa a mais maisAndressa a mais maisAndressa a mais maisAndressa a mais maisAndressa a mais maisAndressa a mais maisAndressa a mais maisAndressa a mais maisAndressa a mais maisAndressa a mais maisAndressa a mais maisAndressa a mais maisAndressa a mais maisAndressa a mais maisAndressa a mais maisAndressa a mais maisAndressa a mais maisAndressa a mais maisAndressa a mais maisAndressa a mais maisAndressa a mais maisAndressa a mais maisAndressa a mais maisAndressa a mais maisAndressa a mais maisAndressa a mais maisAndressa a mais maisAndressa a mais maisAndressa a mais maisAndressa a mais maisAndressa a mais maisAndressa a mais maisAndressa a mais maisAndressa a mais maisAndressa a mais maisAndressa a mais maisAndressa a mais maisAndressa a mais maisAndressa a mais maisAndressa a mais maisAndressa a mais maisAndressa a mais maisAndressa a mais maisAndressa a mais maisAndressa a mais maisAndressa a mais maisAndressa a mais maisAndressa a mais maisAndressa a mais maisAndressa a mais maisAndressa a mais maisAndressa a mais maisAndressa a mais maisAndressa a mais maisAndressa a mais maisAndressa a mais maisAndressa a mais maisAndressa a mais maisAndressa a mais maisAndressa a mais maisAndressa a mais maisAndressa a mais maisAndressa a mais maisAndressa a mais maisAndressa a mais maisAndressa a mais maisAndressa a mais maisAndressa a mais maisAndressa a mais maisAndressa a mais maisAndressa a mais maisAndressa a mais maisAndressa a mais maisAndressa a mais maisAndressa a mais maisAndressa a mais maisAndressa a mais maisAndressa a mais maisAndressa a mais maisAndressa a mais maisAndressa a mais maisAndressa a mais maisAndressa a mais maisAndressa a mais maisAndressa a mais maisAndressa a mais maisAndressa a mais maisAndressa a mais maisAndressa a mais maisAndressa a mais maisAndressa a mais maisAndressa a mais maisAndressa a mais maisAndressa a mais maisAndressa a mais maisAndressa a mais maisAndressa a mais maisAndressa a mais maisAndressa a mais maisAndressa a mais maisAndressa a mais maisAndressa a mais maisAndressa a mais maisAndressa a mais maisAndressa a mais maisAndressa a mais maisAndressa a mais maisAndressa a mais maisAndressa a mais maisAndressa a mais maisAndressa a mais maisAndressa a mais maisAndressa a mais maisAndressa a mais maisAndressa a mais maisAndressa a mais maisAndressa a mais maisAndressa a mais maisAndressa a mais maisAndressa a mais maisAndressa a mais maisAndressa a mais maisAndressa a mais maisAndressa a mais maisAndressa a mais maisAndressa a mais maisAndressa a mais maisAndressa a mais maisAndressa a mais maisAndressa a mais maisAndressa a mais maisAndressa a mais maisAndressa a mais maisAndressa a mais maisAndressa a mais maisAndressa a mais maisAndressa a mais maisAndressa a mais maisAndressa a mais maisAndressa a mais maisAndressa a mais maisAndressa a mais maisAndressa a mais maisAndressa a mais maisAndressa a mais maisAndressa a mais maisAndressa a mais maisAndressa a mais maisAndressa a mais maisAndressa a mais maisAndressa a mais maisAndressa a mais maisAndressa a mais maisAndressa a mais maisAndressa a mais maisAndressa a mais maisAndressa a mais maisAndressa a mais maisAndressa a mais maisAndressa a mais maisAndressa a mais maisAndressa a mais maisAndressa a mais maisAndressa a mais maisAndressa a mais maisAndressa a mais maisAndressa a mais maisAndressa a mais maisAndressa a mais maisAndressa a mais maisAndressa a mais maisAndressa a mais maisAndressa a mais maisAndressa a mais maisAndressa a mais maisAndressa a mais maisAndressa a mais maisAndressa a mais maisAndressa a mais maisAndressa a mais maisAndressa a mais maisAndressa a mais maisAndressa a mais maisAndressa a mais maisAndressa a mais maisAndressa a mais maisAndressa a mais maisAndressa a mais maisAndressa a mais maisAndressa a mais maisAndressa a mais maisAndressa a mais maisAndressa a mais maisAndressa a mais maisAndressa a mais maisAndressa a mais maisAndressa a mais maisAndressa a mais maisAndressa a mais maisAndressa a mais maisAndressa a mais maisAndressa a mais maisAndressa a mais maisAndressa a mais maisAndressa a mais maisAndressa a mais maisAndressa a mais maisAndressa a mais maisAndressa a mais maisAndressa a mais maisAndressa a mais maisAndressa a mais maisAndressa a mais maisAndressa a mais maisAndressa a mais maisAndressa a mais maisAndressa a mais maisAndressa a mais maisAndressa a mais maisAndressa a mais maisAndressa a mais maisAndressa a mais maisAndressa a mais maisAndressa a mais maisAndressa a mais maisAndressa a mais maisAndressa a mais maisAndressa a mais maisAndressa a mais maisAndressa a mais maisAndressa a mais maisAndressa a mais maisAndressa a mais maisAndressa a mais maisAndressa a mais maisAndressa a mais maisAndressa a mais maisAndressa a mais maisAndressa a mais maisAndressa a mais maisAndressa a mais maisAndressa a mais maisAndressa a mais maisAndressa a mais maisAndressa a mais maisAndressa a mais maisAndressa a mais maisAndressa a mais maisAndressa a mais maisAndressa a mais maisAndressa a mais maisAndressa a mais maisAndressa a mais maisAndressa a mais maisAndressa a mais maisAndressa a mais maisAndressa a mais maisAndressa a mais maisAndressa a mais maisAndressa a mais maisAndressa a mais maisAndressa a mais maisAndressa a mais maisAndressa a mais maisAndressa a mais maisAndressa a mais maisAndressa a mais maisAndressa a mais maisAndressa a mais maisAndressa a mais maisAndressa a mais maisAndressa a mais maisAndressa a mais maisAndressa a mais maisAndressa a mais maisAndressa a mais maisAndressa a mais maisAndressa a mais maisAndressa a mais maisAndressa a mais maisAndressa a mais maisAndressa a mais maisAndressa a mais maisAndressa a mais maisAndressa a mais maisAndressa a mais maisAndressa a mais maisAndressa a mais maisAndressa a mais maisAndressa a mais maisAndressa a mais maisAndressa a mais maisAndressa a mais maisAndressa a mais maisAndressa a mais maisAndressa a mais maisAndressa a mais maisAndressa a mais maisAndressa a mais maisAndressa a mais maisAndressa a mais maisAndressa a mais maisAndressa a mais maisAndressa a mais maisAndressa a mais maisAndressa a mais maisAndressa a mais maisAndressa a mais maisAndressa a mais maisAndressa a mais maisAndressa a mais maisAndressa a mais maisAndressa a mais maisAndressa a mais maisAndressa a mais maisAndressa a mais maisAndressa a mais maisAndressa a mais maisAndressa a mais maisAndressa a mais maisAndressa a mais maisAndressa a mais maisAndressa a mais maisAndressa a mais maisAndressa a mais maisAndressa a mais maisAndressa a mais maisAndressa a mais maisAndressa a mais maisAndressa a mais maisAndressa a mais maisAndressa a mais maisAndressa a mais maisAndressa a mais maisAndressa a mais maisAndressa a mais maisAndressa a mais maisAndressa a mais maisAndressa a mais maisAndressa a mais maisAndressa a mais maisAndressa a mais maisAndressa a mais maisAndressa a mais maisAndressa a mais maisAndressa a mais maisAndressa a mais maisAndressa a mais maisAndressa a mais maisAndressa a mais maisAndressa a mais maisAndressa a mais maisAndressa a mais maisAndressa a mais maisAndressa a mais maisAndressa a mais maisAndressa a mais maisAndressa a mais maisAndressa a mais maisAndressa a mais maisAndressa a mais maisAndressa a mais maisAndressa a mais maisAndressa a mais maisAndressa a mais maisAndressa a mais maisAndressa a mais maisAndressa a mais maisAndressa a mais maisAndressa a mais maisAndressa a mais maisAndressa a mais maisAndressa a mais maisAndressa a mais maisAndressa a mais maisAndressa a mais maisAndressa a mais maisAndressa a mais maisAndressa a mais maisAndressa a mais maisAndressa a mais maisAndressa a mais maisAndressa a mais maisAndressa a mais maisAndressa a mais maisAndressa a mais maisAndressa a mais maisAndressa a mais maisAndressa a mais maisAndressa a mais maisAndressa a mais maisAndressa a mais maisAndressa a mais maisAndressa a mais maisAndressa a mais maisAndressa a mais maisAndressa a mais maisAndressa a mais maisAndressa a mais maisAndressa a mais maisAndressa a mais maisAndressa a mais maisAndressa a mais maisAndressa a mais maisAndressa a mais maisAndressa a mais maisAndressa a mais maisAndressa a mais maisAndressa a mais maisAndressa a mais maisAndressa a mais maisAndressa a mais maisAndressa a mais maisAndressa a mais maisAndressa a mais maisAndressa a mais maisAndressa a mais maisAndressa a mais maisAndressa a mais maisAndressa a mais maisAndressa a mais maisAndressa a mais maisAndressa a mais maisAndressa a mais maisAndressa a mais maisAndressa a mais maisAndressa a mais maisAndressa a mais maisAndressa a mais maisAndressa a mais maisAndressa a mais maisAndressa a mais maisAndressa a mais maisAndressa a mais maisAndressa a mais maisAndressa a mais maisAndressa a mais maisAndressa a mais maisAndressa a mais maisAndressa a mais maisAndressa a mais maisAndressa a mais maisAndressa a mais maisAndressa a mais maisAndressa a mais maisAndressa a mais maisAndressa a mais maisAndressa a mais maisAndressa a mais maisAndressa a mais maisAndressa a mais maisAndressa a mais maisAndressa a mais maisAndressa a mais maisAndressa a mais maisAndressa a mais maisAndressa a mais maisAndressa a mais maisAndressa a mais maisAndressa a mais maisAndressa a mais maisAndressa a mais maisAndressa a mais maisAndressa a mais maisAndressa a mais maisAndressa a mais maisAndressa a mais maisAndressa a mais maisAndressa a mais maisAndressa a mais maisAndressa a mais maisAndressa a mais maisAndressa a mais maisAndressa a mais maisAndressa a mais maisAndressa a mais maisAndressa a mais maisAndressa a mais maisAndressa a mais maisAndressa a mais maisAndressa a mais maisAndressa a mais maisAndressa a mais maisAndressa a mais maisAndressa a mais maisAndressa a mais maisAndressa a mais maisAndressa a mais maisAndressa a mais maisAndressa a mais maisAndressa a mais maisAndressa a mais maisAndressa a mais maisAndressa a mais maisAndressa a mais maisAndressa a mais maisAndressa a mais maisAndressa a mais maisAndressa a mais maisAndressa a mais maisAndressa a mais maisAndressa a mais maisAndressa a mais maisAndressa a mais maisAndressa a mais maisAndressa a mais maisAndressa a mais maisAndressa a mais maisAndressa a mais maisAndressa a mais maisAndressa a mais maisAndressa a mais maisAndressa a mais maisAndressa a mais maisAndressa a mais maisAndressa a mais maisAndressa a mais maisAndressa a mais maisAndressa a mais maisAndressa a mais maisAndressa a mais maisAndressa a mais maisAndressa a mais maisAndressa a mais maisAndressa a mais maisAndressa a mais maisAndressa a mais maisAndressa a mais maisAndressa a mais maisAndressa a mais maisAndressa a mais maisAndressa a mais maisAndressa a mais maisAndressa a mais maisAndressa a mais maisAndressa a mais maisAndressa a mais maisAndressa a mais maisAndressa a mais maisAndressa a mais maisAndressa a mais maisAndressa a mais maisAndressa a mais maisAndressa a mais maisAndressa a mais maisAndressa a mais maisAndressa a mais maisAndressa a mais maisAndressa a mais maisAndressa a mais maisAndressa a mais maisAndressa a mais maisAndressa a mais maisAndressa a mais maisAndressa a mais maisAndressa a mais maisAndressa a mais maisAndressa a mais maisAndressa a mais maisAndressa a mais maisAndressa a mais maisAndressa a mais maisAndressa a mais maisAndressa a mais maisAndressa a mais maisAndressa a mais maisAndressa a mais maisAndressa a mais maisAndressa a mais maisAndressa a mais maisAndressa a mais maisAndressa a mais maisAndressa a mais maisAndressa a mais maisAndressa a mais maisAndressa a mais maisAndressa a mais maisAndressa a mais maisAndressa a mais maisAndressa a mais maisAndressa a mais maisAndressa a mais maisAndressa a mais maisAndressa a mais maisAndressa a mais maisAndressa a mais maisAndressa a mais maisAndressa a mais maisAndressa a mais maisAndressa a mais maisAndressa a mais maisAndressa a mais maisAndressa a mais maisAndressa a mais maisAndressa a mais maisAndressa a mais maisAndressa a mais maisAndressa a mais maisAndressa a mais maisAndressa a mais maisAndressa a mais maisAndressa a mais maisAndressa a mais maisAndressa a mais maisAndressa a mais maisAndressa a mais maisAndressa a mais maisAndressa a mais maisAndressa a mais maisAndressa a mais maisAndressa a mais maisAndressa a mais maisAndressa a mais maisAndressa a mais maisAndressa a mais maisAndressa a mais maisAndressa a mais maisAndressa a mais maisAndressa a mais maisAndressa a mais maisAndressa a mais maisAndressa a mais maisAndressa a mais maisAndressa a mais maisAndressa a mais maisAndressa a mais maisAndressa a mais maisAndressa a mais maisAndressa a mais maisAndressa a mais maisAndressa a mais maisAndressa a mais maisAndressa a mais maisAndressa a mais maisAndressa a mais maisAndressa a mais maisAndressa a mais maisAndressa a mais maisAndressa a mais maisAndressa a mais maisAndressa a mais maisAndressa a mais maisAndressa a mais maisAndressa a mais maisAndressa a mais maisAndressa a mais maisAndressa a mais maisAndressa a mais maisAndressa a mais maisAndressa a mais maisAndressa a mais maisAndressa a mais maisAndressa a mais maisAndressa a mais maisAndressa a mais maisAndressa a mais maisAndressa a mais maisAndressa a mais maisAndressa a mais maisAndressa a mais maisAndressa a mais maisAndressa a mais maisAndressa a mais maisAndressa a mais maisAndressa a mais maisAndressa a mais maisAndressa a mais maisAndressa a mais maisAndressa a mais maisAndressa a mais maisAndressa a mais maisAndressa a mais maisAndressa a mais maisAndressa a mais maisAndressa a mais maisAndressa a mais maisAndressa a mais maisAndressa a mais maisAndressa a mais maisAndressa a mais maisAndressa a mais maisAndressa a mais maisAndressa a mais maisAndressa a mais maisAndressa a mais maisAndressa a mais maisAndressa a mais maisAndressa a mais maisAndressa a mais maisAndressa a mais maisAndressa a mais maisAndressa a mais maisAndressa a mais maisAndressa a mais maisAndressa a mais maisAndressa a mais maisAndressa a mais maisAndressa a mais maisAndressa a mais maisAndressa a mais maisAndressa a mais maisAndressa a mais maisAndressa a mais maisAndressa a mais maisAndressa a mais maisAndressa a mais maisAndressa a mais maisAndressa a mais maisAndressa a mais maisAndressa a mais maisAndressa a mais maisAndressa a mais maisAndressa a mais maisAndressa a mais maisAndressa a mais maisAndressa a mais maisAndressa a mais maisAndressa a mais maisAndressa a mais maisAndressa a mais maisAndressa a mais maisAndressa a mais maisAndressa a mais maisAndressa a mais maisAndressa a mais maisAndressa a mais maisAndressa a mais maisAndressa a mais maisAndressa a mais maisAndressa a mais mais\n"
     ]
    }
   ],
   "source": [
    "print(\"Meu nome é Andressa\")\n",
    "\n",
    "idade = input(\"Diga-me sua idade\")\n",
    "nome = input(\"Diga-me seu nome\")\n",
    "\n",
    "codigo = idade + nome \n",
    "\n",
    "\n",
    "print(\"Andressa a mais mais\" *1000)\n",
    "\n"
   ]
  }
 ],
 "metadata": {
  "kernelspec": {
   "display_name": "Python 3",
   "language": "python",
   "name": "python3"
  },
  "language_info": {
   "codemirror_mode": {
    "name": "ipython",
    "version": 3
   },
   "file_extension": ".py",
   "mimetype": "text/x-python",
   "name": "python",
   "nbconvert_exporter": "python",
   "pygments_lexer": "ipython3",
   "version": "3.13.2"
  }
 },
 "nbformat": 4,
 "nbformat_minor": 5
}
