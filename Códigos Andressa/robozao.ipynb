{
 "cells": [
  {
   "cell_type": "code",
   "execution_count": 3,
   "id": "7683aadb",
   "metadata": {},
   "outputs": [],
   "source": [
    "#Estou importando o pyautogui e apelidando ele de aut \n",
    "\n",
    "import pyautogui as aut\n",
    "\n",
    "#pressiono a tecla de atalho win + r\n",
    "aut.hotkey(\"win\",\"r\")\n",
    "#escrever notepad \n",
    "aut.write(\"notepad\", interval=0.1)\n",
    "#espera 1 segundo \n",
    "aut.sleep(1)\n",
    "#aperta o Enter \n",
    "aut.press(\"Enter\")\n",
    "#Pegando as informações do mouse\n",
    "aut.sleep(1)\n",
    "aut.moveTo(242,313)\n",
    "aut.click()\n",
    "aut.sleep(1)\n",
    "aut.write(\"Seja bem-vindo ao meu teste\", interval=0.3)\n",
    "aut.sleep(1)\n",
    "aut.moveTo(395,256)\n",
    "aut.click()\n",
    "aut.press(\"Enter\")\n",
    "aut.sleep(1)\n",
    "aut.write(\"Tudo o que esta aqui eh para fins de teste de aprendizagem\", interval=0.2)\n",
    "aut.sleep(1)\n",
    "aut.moveTo(492,222)\n",
    "aut.click()\n",
    "aut.press(\"Enter\")\n"
   ]
  },
  {
   "cell_type": "code",
   "execution_count": null,
   "id": "5d82612b",
   "metadata": {},
   "outputs": [],
   "source": [
    "#Pegando as informações do mouse\n",
    "aut.mouseInfo()\n"
   ]
  },
  {
   "cell_type": "markdown",
   "id": "c69be538",
   "metadata": {},
   "source": [
    "### Comando para abrir minha musica no youtube "
   ]
  },
  {
   "cell_type": "code",
   "execution_count": 24,
   "id": "f0e92f4d",
   "metadata": {},
   "outputs": [],
   "source": [
    "aut.hotkey(\"win\", \"r\")\n",
    "aut.write(\"Chrome\", interval=0.2)\n",
    "aut.press(\"Enter\")\n",
    "aut.moveTo(582,840)\n",
    "aut.click()\n",
    "aut.sleep(3)\n",
    "aut.moveTo(271,61)\n",
    "aut.click()\n",
    "aut.sleep(1)\n",
    "aut.write(\"youtube.com\")\n",
    "aut.press(\"Enter\")\n",
    "aut.sleep(3)\n",
    "aut.moveTo(753,108)\n",
    "aut.click()\n",
    "aut.sleep(3)\n",
    "aut.write(\"Cris MJ - SI NO ES CONTIGO (Video Oficial)\")\n",
    "aut.sleep(1)\n",
    "aut.press(\"Enter\")\n",
    "aut.sleep(1)\n",
    "aut.moveTo(800,314)\n",
    "aut.click()\n",
    "aut.sleep(1)\n",
    "aut.moveTo(1348,871)\n",
    "aut.click()\n"
   ]
  },
  {
   "cell_type": "markdown",
   "id": "f14b2e9a",
   "metadata": {},
   "source": [
    "## Comando para abrir meu site sozinho"
   ]
  },
  {
   "cell_type": "code",
   "execution_count": 3,
   "id": "d8889874",
   "metadata": {},
   "outputs": [],
   "source": [
    "import pyautogui as aut \n",
    "\n",
    "\n",
    "aut.hotkey(\"win\", \"r\")\n",
    "aut.write(\"Chrome\", interval=0.2)\n",
    "aut.press(\"Enter\")\n",
    "aut.moveTo(582,840)\n",
    "aut.click()\n",
    "aut.sleep(3)\n",
    "aut.moveTo(271,61)\n",
    "aut.click()\n",
    "aut.sleep(1)\n",
    "aut.write(\"https://aura-carros.streamlit.app\")\n",
    "aut.press(\"Enter\")"
   ]
  },
  {
   "cell_type": "markdown",
   "id": "3eb4a5ac",
   "metadata": {},
   "source": [
    "### Comando para abrir e realizar contas na calculadora"
   ]
  },
  {
   "cell_type": "code",
   "execution_count": 17,
   "id": "291d44b1",
   "metadata": {},
   "outputs": [],
   "source": [
    "import pyautogui as aut \n",
    "\n",
    "\n",
    "aut.hotkey(\"win\", \"r\")\n",
    "aut.write(\"Calc.exe\", interval=0.2)\n",
    "aut.press(\"Enter\")\n",
    "aut.sleep(1)\n",
    "aut.moveTo(274,779)\n",
    "aut.click\n",
    "aut.sleep(2)\n",
    "aut.moveTo(228,579)\n",
    "aut.click()\n",
    "aut.sleep(2)\n",
    "aut.moveTo(922,782)\n",
    "aut.click()\n",
    "aut.sleep(2)\n",
    "aut.moveTo(644,579)\n",
    "aut.click()\n",
    "aut.sleep(2)\n",
    "aut.moveTo(461,892)\n",
    "aut.click()\n",
    "aut.sleep(2)\n",
    "aut.moveTo(922,883)\n",
    "aut.click()\n",
    "aut.sleep(2)\n",
    "aut.moveTo(894,592)\n",
    "aut.click()\n",
    "aut.moveTo(296,594)\n",
    "aut.click()\n",
    "aut.moveTo(926,872)\n"
   ]
  },
  {
   "cell_type": "code",
   "execution_count": 11,
   "id": "a90161f9",
   "metadata": {},
   "outputs": [],
   "source": [
    "import pyautogui as aut  \n",
    "\n",
    "\n",
    "aut.press(\"win\")\n",
    "aut.sleep(1)\n",
    "aut.write(\"paint\")\n",
    "aut.press(\"enter\")\n",
    "aut.sleep(2)\n",
    "aut.moveTo(773,258)\n",
    "aut.click()\n",
    "aut.moveTo(1295,343)\n",
    "aut.click()\n",
    "aut.dragTo(664,590)\n",
    "aut.sleep(1)\n",
    "aut.dragTo(940,815)\n",
    "aut.moveTo(582,79)\n",
    "aut.sleep(1)\n",
    "aut.click()\n",
    "aut.moveTo(835,261)\n",
    "aut.click()\n",
    "aut.dragTo(589,588)\n",
    "aut.sleep(1)\n",
    "aut.dragTo(1037,432)\n",
    "\n",
    "\n",
    "\n"
   ]
  },
  {
   "cell_type": "code",
   "execution_count": 10,
   "id": "0afeec83",
   "metadata": {},
   "outputs": [],
   "source": [
    "#Pegando as informações do mouse\n",
    "aut.mouseInfo()\n"
   ]
  }
 ],
 "metadata": {
  "kernelspec": {
   "display_name": "Python 3",
   "language": "python",
   "name": "python3"
  },
  "language_info": {
   "codemirror_mode": {
    "name": "ipython",
    "version": 3
   },
   "file_extension": ".py",
   "mimetype": "text/x-python",
   "name": "python",
   "nbconvert_exporter": "python",
   "pygments_lexer": "ipython3",
   "version": "3.13.2"
  }
 },
 "nbformat": 4,
 "nbformat_minor": 5
}
